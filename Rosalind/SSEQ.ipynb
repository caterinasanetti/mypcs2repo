{
 "cells": [
  {
   "cell_type": "code",
   "execution_count": 60,
   "metadata": {},
   "outputs": [
    {
     "name": "stdout",
     "output_type": "stream",
     "text": [
      "1 3 10 11 14 16 21 25 28 29 32 35 39 40 41 45 67 68 69 70 84 93 98 100 102 106 111 113 118 125 127 139 140 144 156 159 160\n"
     ]
    }
   ],
   "source": [
    "\n",
    "from Bio import SeqIO\n",
    "from Bio.Seq import Seq\n",
    "seq_string=[]\n",
    "with open ('rosalind_sseq.txt','r') as fa:\n",
    "    for seq_record  in SeqIO.parse(fa,'fasta'):\n",
    "        seq_string.append(str(seq_record.seq))\n",
    "s=(seq_string[0])\n",
    "t=seq_string[1]\n",
    "i=0\n",
    "j=0\n",
    "res=[]\n",
    "for x in s:\n",
    "    if x==t[j]:\n",
    "        j +=1 \n",
    "        res.append(i+1)\n",
    "    if j>=(len(t)):\n",
    "        break\n",
    "    i +=1\n",
    "print(*res)"
   ]
  }
 ],
 "metadata": {
  "kernelspec": {
   "display_name": "base",
   "language": "python",
   "name": "python3"
  },
  "language_info": {
   "codemirror_mode": {
    "name": "ipython",
    "version": 3
   },
   "file_extension": ".py",
   "mimetype": "text/x-python",
   "name": "python",
   "nbconvert_exporter": "python",
   "pygments_lexer": "ipython3",
   "version": "3.8.8"
  },
  "orig_nbformat": 4,
  "vscode": {
   "interpreter": {
    "hash": "5512e18239b1666184ad11820d6e60501827cb13c7da3600482d52aab1c0ae55"
   }
  }
 },
 "nbformat": 4,
 "nbformat_minor": 2
}
