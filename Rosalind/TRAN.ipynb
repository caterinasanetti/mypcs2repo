{
 "cells": [
  {
   "cell_type": "code",
   "execution_count": 3,
   "metadata": {},
   "outputs": [
    {
     "name": "stdout",
     "output_type": "stream",
     "text": [
      "1.787037037037037\n"
     ]
    }
   ],
   "source": [
    "from Bio import SeqIO\n",
    "from Bio.Seq import Seq\n",
    "seq_string=[]\n",
    "with open ('rosalind_tran.txt','r') as fa:\n",
    "    for seq_record  in SeqIO.parse(fa,'fasta'):\n",
    "        seq_string.append(str(seq_record.seq))\n",
    "s=(seq_string[0])\n",
    "t=seq_string[1]\n",
    "trans=0\n",
    "transv =0\n",
    "for i in range(len(s)):\n",
    "    if (s[i]==\"A\" and t[i]==\"G\") or (t[i]==\"A\" and s[i]==\"G\") or (s[i]==\"C\" and t[i]==\"T\") or (t[i]==\"C\" and s[i]==\"T\"):\n",
    "        trans +=1\n",
    "    if (s[i]==\"A\" and t[i]==\"T\") or (s[i]==\"A\" and t[i]==\"C\") or (s[i]==\"G\" and t[i]==\"T\") or (s[i]==\"G\" and t[i]==\"C\"):\n",
    "        transv+= 1\n",
    "    if (t[i]==\"A\" and s[i]==\"C\") or (t[i]==\"G\" and s[i]==\"C\") or (t[i]==\"A\" and s[i]==\"T\") or (t[i]==\"G\" and s[i]==\"T\"):\n",
    "        transv+= 1\n",
    "print(trans/transv)"
   ]
  }
 ],
 "metadata": {
  "kernelspec": {
   "display_name": "base",
   "language": "python",
   "name": "python3"
  },
  "language_info": {
   "codemirror_mode": {
    "name": "ipython",
    "version": 3
   },
   "file_extension": ".py",
   "mimetype": "text/x-python",
   "name": "python",
   "nbconvert_exporter": "python",
   "pygments_lexer": "ipython3",
   "version": "3.8.8 (default, Apr 13 2021, 15:08:03) [MSC v.1916 64 bit (AMD64)]"
  },
  "orig_nbformat": 4,
  "vscode": {
   "interpreter": {
    "hash": "5512e18239b1666184ad11820d6e60501827cb13c7da3600482d52aab1c0ae55"
   }
  }
 },
 "nbformat": 4,
 "nbformat_minor": 2
}
