{
 "cells": [
  {
   "cell_type": "code",
   "execution_count": 3,
   "metadata": {},
   "outputs": [
    {
     "name": "stdout",
     "output_type": "stream",
     "text": [
      "0.5478689355957752\n"
     ]
    }
   ],
   "source": [
    "import re\n",
    "from scipy.special import binom\n",
    "with open('rosalind_lia.txt', 'r') as f:\n",
    "    s=f.read()\n",
    "x = re.findall('[0-9]+', s)\n",
    "a=[]\n",
    "for i in x:\n",
    "    a.append(int(i))\n",
    "k=a[0]\n",
    "N=a[1]\n",
    "AaBb =0.25\n",
    "berntrials = []\n",
    "noffspring = 2**k\n",
    "for r in range(N,(noffspring+1)):\n",
    "    binomialcoefficient=binom(noffspring,r)\n",
    "    x= (binomialcoefficient*(AaBb**r)*((1-AaBb)**(noffspring-r))) #bernulli trials summ(P(X=x)\n",
    "    berntrials.append(x)\n",
    "print(sum(berntrials))"
   ]
  }
 ],
 "metadata": {
  "kernelspec": {
   "display_name": "Python 3.8.8 ('base')",
   "language": "python",
   "name": "python3"
  },
  "language_info": {
   "codemirror_mode": {
    "name": "ipython",
    "version": 3
   },
   "file_extension": ".py",
   "mimetype": "text/x-python",
   "name": "python",
   "nbconvert_exporter": "python",
   "pygments_lexer": "ipython3",
   "version": "3.8.8"
  },
  "orig_nbformat": 4,
  "vscode": {
   "interpreter": {
    "hash": "5512e18239b1666184ad11820d6e60501827cb13c7da3600482d52aab1c0ae55"
   }
  }
 },
 "nbformat": 4,
 "nbformat_minor": 2
}
