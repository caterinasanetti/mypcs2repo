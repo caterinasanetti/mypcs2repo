{
 "cells": [
  {
   "cell_type": "code",
   "execution_count": 48,
   "metadata": {},
   "outputs": [
    {
     "name": "stdout",
     "output_type": "stream",
     "text": [
      "129 190 311 340 343 394 402 407 415 450 574 578 591 614 649 727 730 765 799 803 814 874 877 902 932 944 1077 1084 1133 1207 1245 1246 1257 1284 1322 1367 1440 1476 1500 1501 1546 1550 1598 1604 1605 1698 1716 1718 1771 1796 1797 1829 1896 1911 2040 2073 2085 2164 2250 2270 2286 2299 2422 2427 2497 2563 2564 2657 2695 2704 2718 2723 2885 2971 3032 3082 3088 3105 3120 3133 3259 3347 3392 3438 3464 3482 3488 3541 3576 3581 3648 3658 3732 3740 3816 3841 3894 3949 3965 4010 4022 4365 4415 4458 4574 4575 4652 4807 4861 4926 5038 5133 5163 5212 5250 5397 5468 5512 5537 5593 5599 5640 5740 5877 5909 5969 6005 6087 6112 6246 6255 6279 6365 6388 6400 6431 6439 6450 6528 6554 6564 6623 6705 6720 6757 6786 6791 6818 7088 7137 7255 7282 7355 7414 7474 7539 7565 7659 7696 7732 7894 7911 7938 7994 8000 8066 8079 8164 8189 8202 8252 8259 8282 8483 8593 8681 8729 8860 8873 8884 8990 9010 9116 9208 9279\n",
      "9280 9273 9269 9201 9195 9175 9119 8976 8975 8930 8875 8862 8837 8827 8818 8701 8683 8662 8610 8512 8497 8429 8395 8383 8371 8334 8262 8242 8206 8010 7919 7818 7797 7781 7759 7756 7748 7745 7711 7597 7570 7502 7470 7466 7446 7435 7415 7367 7348 7335 7313 7194 7012 7006 6927 6922 6889 6815 6789 6694 6607 6509 6471 6469 6391 6285 6253 6168 6152 6121 6086 6023 5885 5863 5781 5763 5600 5590 5581 5540 5484 5467 5439 5427 5293 5239 5231 5224 5122 4993 4978 4928 4848 4827 4784 4709 4592 4582 4557 4539 4502 4449 4415 4388 4231 4110 4074 4064 4021 4002 3993 3987 3833 3820 3774 3722 3683 3681 3672 3669 3662 3609 3552 3513 3491 3470 3340 3201 3169 3096 3045 3009 2995 2847 2817 2793 2716 2681 2621 2607 2591 2550 2474 2441 2439 2424 2362 2288 2285 2251 2245 2194 2157 2084 2083 1981 1972 1951 1931 1835 1822 1747 1740 1624 1478 1401 1375 1258 1249 1030 855 784 761 746 647 640 526 504 314 264 234 215 198 193 137 17 13\n"
     ]
    }
   ],
   "source": [
    "import re\n",
    "with open('rosalind_lgis.txt', 'r') as f:\n",
    "    s=f.read()\n",
    "x = re.findall('[0-9]+', s)\n",
    "seq=[]\n",
    "for i in x:\n",
    "    seq.append(int(i))\n",
    "seq.pop(0)\n",
    "sequence_list = [[] for i in range (len(seq))]\n",
    "sequence_list[0].append(seq[0])\n",
    "for b in range(1,len(seq)):\n",
    "    for a in range(0, b):\n",
    "        if (seq[b] > seq[a] and (len(sequence_list[b]) < len(sequence_list[a]))):\n",
    "            sequence_list[b] = list(sequence_list[a]) \n",
    "    sequence_list[b].append(seq[b])\n",
    "res =(max(sequence_list,key=len))\n",
    "increasing=\" \".join(map(str,res))\n",
    "print(increasing)\n",
    "\n",
    "sequence_list2 = [[] for i in range (len(seq))]\n",
    "sequence_list2[0].append(seq[0])\n",
    "for y in range(1,len(seq)):\n",
    "    for x in range(0, y): \n",
    "        if (seq[y] < seq[x] and (len(sequence_list2[y]) < len(sequence_list2[x]))):\n",
    "            sequence_list2[y] = list(sequence_list2[x]) \n",
    "    sequence_list2[y].append(seq[y])\n",
    "ress= (max(sequence_list2,key=len))\n",
    "decreasing=\" \".join(map(str,ress))\n",
    "print(decreasing)"
   ]
  }
 ],
 "metadata": {
  "kernelspec": {
   "display_name": "Python 3.8.8 ('base')",
   "language": "python",
   "name": "python3"
  },
  "language_info": {
   "codemirror_mode": {
    "name": "ipython",
    "version": 3
   },
   "file_extension": ".py",
   "mimetype": "text/x-python",
   "name": "python",
   "nbconvert_exporter": "python",
   "pygments_lexer": "ipython3",
   "version": "3.8.8"
  },
  "orig_nbformat": 4,
  "vscode": {
   "interpreter": {
    "hash": "5512e18239b1666184ad11820d6e60501827cb13c7da3600482d52aab1c0ae55"
   }
  }
 },
 "nbformat": 4,
 "nbformat_minor": 2
}
