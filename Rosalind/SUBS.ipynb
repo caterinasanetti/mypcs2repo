{
 "cells": [
  {
   "cell_type": "code",
   "execution_count": 23,
   "metadata": {},
   "outputs": [
    {
     "name": "stdout",
     "output_type": "stream",
     "text": [
      "33 51 78 85 93 137 145 162 184 253 319 334 375 434 467 474 481 514 544 572 600 632 672 728 743 785 802 809 816 823 830 853 874 885\n"
     ]
    }
   ],
   "source": [
    "with open('rosalind_subs.txt','r') as file:\n",
    "    content = file.read()\n",
    "DNA, subDNA = content.splitlines()\n",
    "ty=subDNA[0]\n",
    "z=len(subDNA)\n",
    "a=[]\n",
    "b=[]\n",
    "for pos,char in enumerate(DNA):\n",
    "    if(char==ty):\n",
    "        a.append(pos)\n",
    "for i in a:\n",
    "    if DNA[i:(i+z)]==subDNA:\n",
    "        b.append(i+1)\n",
    "ress=\" \".join(map(str, b))\n",
    "print(ress)"
   ]
  }
 ],
 "metadata": {
  "kernelspec": {
   "display_name": "Python 3.8.8 ('base')",
   "language": "python",
   "name": "python3"
  },
  "language_info": {
   "codemirror_mode": {
    "name": "ipython",
    "version": 3
   },
   "file_extension": ".py",
   "mimetype": "text/x-python",
   "name": "python",
   "nbconvert_exporter": "python",
   "pygments_lexer": "ipython3",
   "version": "3.8.8"
  },
  "orig_nbformat": 4,
  "vscode": {
   "interpreter": {
    "hash": "5512e18239b1666184ad11820d6e60501827cb13c7da3600482d52aab1c0ae55"
   }
  }
 },
 "nbformat": 4,
 "nbformat_minor": 2
}
