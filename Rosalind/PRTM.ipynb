{
 "cells": [
  {
   "cell_type": "code",
   "execution_count": 15,
   "metadata": {},
   "outputs": [
    {
     "name": "stdout",
     "output_type": "stream",
     "text": [
      "99722.3035000004\n"
     ]
    }
   ],
   "source": [
    "dict={'A':71.03711,\n",
    "'C':103.00919,\n",
    "'D':115.02694,\n",
    "'E':129.04259,\n",
    "'F':147.06841,\n",
    "'G':57.02146,\n",
    "'H':137.05891,\n",
    "'I':113.08406,\n",
    "'K':128.09496,\n",
    "'L':113.08406,\n",
    "'M':131.04049,\n",
    "'N':114.04293,\n",
    "'P':97.05276,\n",
    "'Q':128.05858,\n",
    "'R':156.10111,\n",
    "'S':87.03203,\n",
    "'T':101.04768,\n",
    "'V':99.06841,\n",
    "'W':186.07931,\n",
    "'Y':163.06333}\n",
    "with open('rosalind_prtm.txt', 'r') as f:\n",
    "    s=f.readline()\n",
    "z=list(s)\n",
    "z.remove('\\n')\n",
    "a=[]\n",
    "for i in z:\n",
    "    a.append(dict[i])\n",
    "res=sum(a)\n",
    "print(res)\n"
   ]
  }
 ],
 "metadata": {
  "kernelspec": {
   "display_name": "Python 3.8.8 ('base')",
   "language": "python",
   "name": "python3"
  },
  "language_info": {
   "codemirror_mode": {
    "name": "ipython",
    "version": 3
   },
   "file_extension": ".py",
   "mimetype": "text/x-python",
   "name": "python",
   "nbconvert_exporter": "python",
   "pygments_lexer": "ipython3",
   "version": "3.8.8"
  },
  "orig_nbformat": 4,
  "vscode": {
   "interpreter": {
    "hash": "5512e18239b1666184ad11820d6e60501827cb13c7da3600482d52aab1c0ae55"
   }
  }
 },
 "nbformat": 4,
 "nbformat_minor": 2
}
