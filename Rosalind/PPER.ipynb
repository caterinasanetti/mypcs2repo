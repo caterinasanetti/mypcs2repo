{
 "cells": [
  {
   "cell_type": "code",
   "execution_count": 4,
   "metadata": {},
   "outputs": [
    {
     "name": "stdout",
     "output_type": "stream",
     "text": [
      "606400\n"
     ]
    }
   ],
   "source": [
    "from math import perm\n",
    "import re\n",
    "with open('rosalind_pper.txt', 'r') as f:\n",
    "    s=f.read()\n",
    "x = re.findall('[0-9]+', s)\n",
    "s=[]\n",
    "for i in x:\n",
    "    s.append(int(i))\n",
    "a=s[0]\n",
    "b=s[1]\n",
    "pperm=perm(a,b)\n",
    "print(pperm%1000000)"
   ]
  }
 ],
 "metadata": {
  "kernelspec": {
   "display_name": "Python 3.8.8 ('base')",
   "language": "python",
   "name": "python3"
  },
  "language_info": {
   "codemirror_mode": {
    "name": "ipython",
    "version": 3
   },
   "file_extension": ".py",
   "mimetype": "text/x-python",
   "name": "python",
   "nbconvert_exporter": "python",
   "pygments_lexer": "ipython3",
   "version": "3.8.8"
  },
  "orig_nbformat": 4,
  "vscode": {
   "interpreter": {
    "hash": "5512e18239b1666184ad11820d6e60501827cb13c7da3600482d52aab1c0ae55"
   }
  }
 },
 "nbformat": 4,
 "nbformat_minor": 2
}
