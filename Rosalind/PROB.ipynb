{
 "cells": [
  {
   "cell_type": "code",
   "execution_count": 5,
   "metadata": {},
   "outputs": [
    {
     "name": "stdout",
     "output_type": "stream",
     "text": [
      "-83.434 -71.646 -69.778 -65.133 -61.680 -60.694 -60.198 -60.210 -60.862 -63.510 -63.899 -69.608 -74.068 -86.593\n"
     ]
    }
   ],
   "source": [
    "import math\n",
    "with open('rosalind_prob.txt', 'r') as f:\n",
    "    s=f.readline()\n",
    "    t=f.readline()\n",
    "import re\n",
    "x =re.findall(\"\\d+\\.\\d+\",t)\n",
    "p=[]\n",
    "for i in x:\n",
    "    p.append(float(i))\n",
    "cAT=0\n",
    "cCG=0\n",
    "for i in s:\n",
    "    if i==\"A\" or i==\"T\":\n",
    "        cAT += 1\n",
    "    elif i==\"C\" or i==\"G\":\n",
    "        cCG += 1\n",
    "res=[]\n",
    "for i in range(len(p)):\n",
    "    x= (((p[i]/2)**(cCG))*(((1-p[i])/2)**(cAT)))\n",
    "    prob=math.log10(x)\n",
    "    res.append('%0.3f' %prob)\n",
    "print(\" \".join(map(str,res)))\n"
   ]
  }
 ],
 "metadata": {
  "kernelspec": {
   "display_name": "Python 3.8.8 ('base')",
   "language": "python",
   "name": "python3"
  },
  "language_info": {
   "codemirror_mode": {
    "name": "ipython",
    "version": 3
   },
   "file_extension": ".py",
   "mimetype": "text/x-python",
   "name": "python",
   "nbconvert_exporter": "python",
   "pygments_lexer": "ipython3",
   "version": "3.8.8"
  },
  "orig_nbformat": 4,
  "vscode": {
   "interpreter": {
    "hash": "5512e18239b1666184ad11820d6e60501827cb13c7da3600482d52aab1c0ae55"
   }
  }
 },
 "nbformat": 4,
 "nbformat_minor": 2
}
