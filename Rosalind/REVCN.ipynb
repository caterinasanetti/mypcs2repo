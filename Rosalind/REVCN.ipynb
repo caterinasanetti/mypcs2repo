{
 "cells": [
  {
   "cell_type": "code",
   "execution_count": 1,
   "metadata": {},
   "outputs": [
    {
     "name": "stdout",
     "output_type": "stream",
     "text": [
      "GACAGCTGTTCTGATTCTATGCCTTACTAAGCTTACGCAGCGGCAGCATCCGTAGGAGAGATGCATAAAAGTGCCAAATGAAACCGGAGCTGATCCGCATGGCTCTGACCGAGCCTGGCTGTCTTGTCACGGTAAAGTAGCGGTAGTGACCAAATTGTATCCATGCTCGGATTCAGGAAATGACATGGCCGGGCATAATCAATGGTTAACATAGGCGCGTGACTGACTTAATGTGCCCGTTAGAGAAGAAGAAATCGGCGAATCCCATAGCTGGATAAGGGACAGCACGATTAGAAACGGGAGACCGGTTAGACACCCTAGCAGGTGCTAATCATAGTGTAAACGGTTTGAATCTTGGGTTCGGAGGCTCACGTTCCGCTGCTAAAGACAGTGCGGGCATTAGACATGACTGGCAAATTGTTATATAAGCTGGAACTAAGTTCGGATGTTCTGGATTTGCTGATGCAGTTATCTTCCTGTAAACAAGGTCGCCAGCGGACCGGCCGACGGCAACGAAGCGCCTATAACTAGAAGGCCGGCGTTATAGTAACCCTCGGTGCAACATAGCCGCAGGCATCGGACGGTGGGCTTCCAAGATCTGAGGTTAGGTCGTTATTTTGGTGTGTCAACCTCCAGAACCGGCTCTAATTCATTCACAGGTTGACGATTTTCCGTTACTAATTCGGCTAATGTGTCTTGAACCGGCAGCAGGGCTGGATCTGAATCTAAGGGGTCCGTGTCCAAAGTGAAGGTCGACCAGAACGCGAGGAATGTTACATTCCCTGGCCATACGTCGAACCTCGGTCAACGATAATGTAGATCTTGGGACTAGGTGTGATGGGGCGTTTCCAGTACGGAGGGAACTGCTTACCAGGAA\n"
     ]
    }
   ],
   "source": [
    "with open('rosalind_revcn.txt', 'r') as f:\n",
    "    seq=f.read()\n",
    "nseq=[]\n",
    "for i in seq:\n",
    "    if i==\"A\":\n",
    "        nseq.append(\"T\")\n",
    "    if i==\"T\":\n",
    "        nseq.append(\"A\")\n",
    "    if i==\"C\":\n",
    "        nseq.append(\"G\")\n",
    "    if i==\"G\":\n",
    "        nseq.append(\"C\")\n",
    "nseq=\"\".join(nseq)\n",
    "nseqr=nseq[::-1]\n",
    "print(nseqr)"
   ]
  }
 ],
 "metadata": {
  "kernelspec": {
   "display_name": "Python 3.8.8 ('base')",
   "language": "python",
   "name": "python3"
  },
  "language_info": {
   "codemirror_mode": {
    "name": "ipython",
    "version": 3
   },
   "file_extension": ".py",
   "mimetype": "text/x-python",
   "name": "python",
   "nbconvert_exporter": "python",
   "pygments_lexer": "ipython3",
   "version": "3.8.8"
  },
  "orig_nbformat": 4,
  "vscode": {
   "interpreter": {
    "hash": "5512e18239b1666184ad11820d6e60501827cb13c7da3600482d52aab1c0ae55"
   }
  }
 },
 "nbformat": 4,
 "nbformat_minor": 2
}
