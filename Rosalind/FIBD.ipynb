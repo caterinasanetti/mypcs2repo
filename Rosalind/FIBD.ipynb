{
 "cells": [
  {
   "cell_type": "code",
   "execution_count": 13,
   "metadata": {},
   "outputs": [
    {
     "name": "stdout",
     "output_type": "stream",
     "text": [
      "673794932813409350\n"
     ]
    }
   ],
   "source": [
    "import re\n",
    "with open('rosalind_fibd.txt', 'r') as f:\n",
    "    s=f.read()\n",
    "x = re.findall('[0-9]+', s)\n",
    "a=[]\n",
    "for i in x:\n",
    "    a.append(int(i))\n",
    "m=a[0]\n",
    "l=a[1]#life of rabbits\n",
    "fib=1\n",
    "p=1\n",
    "res=[]\n",
    "for i in range(0,m+1):\n",
    "    if i<=2:\n",
    "        res.append(fib)\n",
    "    else:\n",
    "        fib=res[i-1]+p*(res[i-2])\n",
    "        res.append(fib)\n",
    "        if i>l:\n",
    "            res[i] -= res[i-l-1]\n",
    "print(max(res))\n"
   ]
  },
  {
   "cell_type": "code",
   "execution_count": 12,
   "metadata": {},
   "outputs": [
    {
     "name": "stdout",
     "output_type": "stream",
     "text": [
      "4\n"
     ]
    }
   ],
   "source": [
    "m=6\n",
    "l=3\n",
    "fib=1\n",
    "p=1\n",
    "res=[]\n",
    "for i in range(0,m+1):\n",
    "    if i<=2:\n",
    "        res.append(fib)\n",
    "    else:\n",
    "        fib=res[i-1]+p*(res[i-2])\n",
    "        res.append(fib)\n",
    "        if i>l:\n",
    "            res[i] -= res[i-l-1]\n",
    "print(max(res))"
   ]
  }
 ],
 "metadata": {
  "kernelspec": {
   "display_name": "Python 3.8.8 ('base')",
   "language": "python",
   "name": "python3"
  },
  "language_info": {
   "codemirror_mode": {
    "name": "ipython",
    "version": 3
   },
   "file_extension": ".py",
   "mimetype": "text/x-python",
   "name": "python",
   "nbconvert_exporter": "python",
   "pygments_lexer": "ipython3",
   "version": "3.8.8"
  },
  "orig_nbformat": 4,
  "vscode": {
   "interpreter": {
    "hash": "5512e18239b1666184ad11820d6e60501827cb13c7da3600482d52aab1c0ae55"
   }
  }
 },
 "nbformat": 4,
 "nbformat_minor": 2
}
