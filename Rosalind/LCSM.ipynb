{
 "cells": [
  {
   "cell_type": "code",
   "execution_count": 86,
   "metadata": {},
   "outputs": [
    {
     "name": "stdout",
     "output_type": "stream",
     "text": [
      "GCGGGGGGCTTGAAGCTTTAAGCACTGGCAGATTTTTATGGATCC\n"
     ]
    }
   ],
   "source": [
    "from Bio import SeqIO\n",
    "seq_name, seq_string = [], []\n",
    "with open ('rosalind_lcsm.txt','r') as fa:\n",
    "    for seq_record  in SeqIO.parse(fa,'fasta'):\n",
    "        seq_string.append(str(seq_record.seq))\n",
    "z=min(seq_string,key=len)\n",
    "comp=seq_string[1:]\n",
    "frags=[]\n",
    "res=[]\n",
    "for j in range(len(z)):\n",
    "    for i in range(j+1,len(z)+1):\n",
    "        f=z[j:i]\n",
    "        if len(f)>=2:\n",
    "            frags.append(f)\n",
    "for frag in frags:\n",
    "    count= 1\n",
    "    for p in seq_string[1:]:\n",
    "        if frag in p:\n",
    "            count += 1\n",
    "        if count==len(seq_string):\n",
    "            res.append(frag)\n",
    "\n",
    "print(max(res,key=len))"
   ]
  }
 ],
 "metadata": {
  "kernelspec": {
   "display_name": "Python 3.8.8 ('base')",
   "language": "python",
   "name": "python3"
  },
  "language_info": {
   "codemirror_mode": {
    "name": "ipython",
    "version": 3
   },
   "file_extension": ".py",
   "mimetype": "text/x-python",
   "name": "python",
   "nbconvert_exporter": "python",
   "pygments_lexer": "ipython3",
   "version": "3.8.8"
  },
  "orig_nbformat": 4,
  "vscode": {
   "interpreter": {
    "hash": "5512e18239b1666184ad11820d6e60501827cb13c7da3600482d52aab1c0ae55"
   }
  }
 },
 "nbformat": 4,
 "nbformat_minor": 2
}
