{
 "cells": [
  {
   "cell_type": "code",
   "execution_count": 1,
   "metadata": {},
   "outputs": [
    {
     "name": "stdout",
     "output_type": "stream",
     "text": [
      "778817392288148379660189696000000\n"
     ]
    }
   ],
   "source": [
    "from Bio import SeqIO\n",
    "from math import factorial\n",
    "my_seqlist = []\n",
    "with open ('rosalind_pmch.txt','r') as fa:\n",
    "    for seq_record  in SeqIO.parse(fa,'fasta'):\n",
    "        my_seqlist.append(str(seq_record.seq))\n",
    "rna=my_seqlist[0]\n",
    "countAT=0\n",
    "countCG=0\n",
    "for x in rna:\n",
    "    if x==\"A\":\n",
    "        countAT += 1\n",
    "    if x==\"C\":\n",
    "        countCG += 1\n",
    "res=factorial(countAT)*factorial(countCG)\n",
    "print(res)\n"
   ]
  }
 ],
 "metadata": {
  "kernelspec": {
   "display_name": "base",
   "language": "python",
   "name": "python3"
  },
  "language_info": {
   "codemirror_mode": {
    "name": "ipython",
    "version": 3
   },
   "file_extension": ".py",
   "mimetype": "text/x-python",
   "name": "python",
   "nbconvert_exporter": "python",
   "pygments_lexer": "ipython3",
   "version": "3.8.8"
  },
  "orig_nbformat": 4,
  "vscode": {
   "interpreter": {
    "hash": "5512e18239b1666184ad11820d6e60501827cb13c7da3600482d52aab1c0ae55"
   }
  }
 },
 "nbformat": 4,
 "nbformat_minor": 2
}
