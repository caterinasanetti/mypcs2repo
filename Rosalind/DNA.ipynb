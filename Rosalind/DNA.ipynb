{
 "cells": [
  {
   "cell_type": "code",
   "execution_count": 1,
   "metadata": {},
   "outputs": [
    {
     "name": "stdout",
     "output_type": "stream",
     "text": [
      "210 243 217 203\n"
     ]
    }
   ],
   "source": [
    "with open('rosalind_dna.txt', 'r') as f:\n",
    "    dna=f.read()\n",
    "countA= 0\n",
    "countG=0\n",
    "countC=0\n",
    "countT=0\n",
    "for i in dna:\n",
    "    if i== \"A\":\n",
    "        countA +=1\n",
    "    if i==\"G\":\n",
    "        countG += 1\n",
    "    if i==\"C\":\n",
    "        countC +=1 \n",
    "    if i==\"T\":\n",
    "        countT += 1\n",
    "print(countA,countC,countG,countT)"
   ]
  }
 ],
 "metadata": {
  "kernelspec": {
   "display_name": "Python 3.8.8 ('base')",
   "language": "python",
   "name": "python3"
  },
  "language_info": {
   "codemirror_mode": {
    "name": "ipython",
    "version": 3
   },
   "file_extension": ".py",
   "mimetype": "text/x-python",
   "name": "python",
   "nbconvert_exporter": "python",
   "pygments_lexer": "ipython3",
   "version": "3.8.8"
  },
  "orig_nbformat": 4,
  "vscode": {
   "interpreter": {
    "hash": "5512e18239b1666184ad11820d6e60501827cb13c7da3600482d52aab1c0ae55"
   }
  }
 },
 "nbformat": 4,
 "nbformat_minor": 2
}
