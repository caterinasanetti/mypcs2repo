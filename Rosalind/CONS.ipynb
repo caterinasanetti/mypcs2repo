{
 "cells": [
  {
   "cell_type": "code",
   "execution_count": null,
   "metadata": {},
   "outputs": [],
   "source": [
    "from Bio import SeqIO\n",
    "my_seqlist = []\n",
    "for seq_record in SeqIO.parse('rosalind_cons.txt','fasta'):\n",
    "    my_seqlist.append(seq_record)\n",
    "cA=0\n",
    "cC=0\n",
    "cG=0\n",
    "cT=0\n",
    "a=[]\n",
    "z=0\n",
    "b=[]\n",
    "n=len(my_seqlist[1])-1\n",
    "while z<=n:\n",
    "    for i in range(len(my_seqlist)):\n",
    "        for h in my_seqlist[i][z]:\n",
    "            if h=='A':\n",
    "                cA += 1\n",
    "            if h=='C':\n",
    "                cC +=1\n",
    "            if h=='T':\n",
    "                cT +=1 \n",
    "            if h=='G':\n",
    "                cG +=1\n",
    "    a.append(cA)\n",
    "    a.append(cC)\n",
    "    a.append(cG)\n",
    "    a.append(cT)\n",
    "    b.append(a)\n",
    "    cA=0\n",
    "    cC=0\n",
    "    cG=0\n",
    "    cT=0\n",
    "    a=[]\n",
    "    z+=1\n",
    "nb=[]\n",
    "nnb=[]\n",
    "x=0\n",
    "while x<=3:\n",
    "    for z in range(len(b)):\n",
    "        nb.append(b[z][x])\n",
    "    nnb.append(nb)\n",
    "    nb=[]\n",
    "    x+= 1\n",
    "la=\" \".join(map(str,nnb[0]))\n",
    "lb=\" \".join(map(str,nnb[1]))\n",
    "lc=\" \".join(map(str,nnb[2]))\n",
    "ld=\" \".join(map(str,nnb[3]))\n",
    "matrix=(f\"A:{la}\\nC:{lb}\\nG:{lc}\\nT:{ld}\")\n",
    "cons=[]\n",
    "a=[]\n",
    "for i in range(len(b)):\n",
    "    maxi=max(b[i])\n",
    "    a.append(b[i].index(maxi))\n",
    "for x in a:\n",
    "    if x==0:\n",
    "        cons.append(\"A\")\n",
    "    if x==1:\n",
    "        cons.append(\"C\")\n",
    "    if x==2:\n",
    "        cons.append(\"G\")\n",
    "    if x==3:\n",
    "        cons.append(\"T\")\n",
    "final=\"\".join(cons)\n",
    "print(final)\n",
    "print(matrix)"
   ]
  }
 ],
 "metadata": {
  "kernelspec": {
   "display_name": "Python 3.8.8 ('base')",
   "language": "python",
   "name": "python3"
  },
  "language_info": {
   "codemirror_mode": {
    "name": "ipython",
    "version": 3
   },
   "file_extension": ".py",
   "mimetype": "text/x-python",
   "name": "python",
   "nbconvert_exporter": "python",
   "pygments_lexer": "ipython3",
   "version": "3.8.8"
  },
  "orig_nbformat": 4,
  "vscode": {
   "interpreter": {
    "hash": "5512e18239b1666184ad11820d6e60501827cb13c7da3600482d52aab1c0ae55"
   }
  }
 },
 "nbformat": 4,
 "nbformat_minor": 2
}
