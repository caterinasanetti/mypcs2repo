{
 "cells": [
  {
   "cell_type": "code",
   "execution_count": 1,
   "id": "470ed40d",
   "metadata": {},
   "outputs": [
    {
     "name": "stdout",
     "output_type": "stream",
     "text": [
      "Rosalind_0808\n",
      "60.91954022988506\n"
     ]
    }
   ],
   "source": [
    "from Bio import SeqIO\n",
    "my_seqlist = []\n",
    "for seq_record in SeqIO.parse('rosalind_gc.txt','fasta'):\n",
    "    my_seqlist.append(seq_record)\n",
    "a=[]\n",
    "countcg=0\n",
    "for i in range(len(my_seqlist)):\n",
    "    for h in my_seqlist[i]:\n",
    "        if h==\"C\" or h==\"G\":\n",
    "            countcg +=1\n",
    "    a.append(countcg)\n",
    "    countcg=0\n",
    "b=[]\n",
    "for i in range(len(my_seqlist)):\n",
    "    b.append(len(my_seqlist[i]))\n",
    "c=[]\n",
    "for i in range(len(my_seqlist)):\n",
    "        content=(a[i]/b[i])*100\n",
    "        c.append(float(content))\n",
    "r=(max(c))\n",
    "index=c.index(r)\n",
    "result=my_seqlist[index]\n",
    "print(result.name)\n",
    "print(r)"
   ]
  },
  {
   "cell_type": "code",
   "execution_count": null,
   "id": "164f9716",
   "metadata": {},
   "outputs": [],
   "source": []
  }
 ],
 "metadata": {
  "kernelspec": {
   "display_name": "Python 3.8.8 ('base')",
   "language": "python",
   "name": "python3"
  },
  "language_info": {
   "codemirror_mode": {
    "name": "ipython",
    "version": 3
   },
   "file_extension": ".py",
   "mimetype": "text/x-python",
   "name": "python",
   "nbconvert_exporter": "python",
   "pygments_lexer": "ipython3",
   "version": "3.8.8"
  },
  "vscode": {
   "interpreter": {
    "hash": "5512e18239b1666184ad11820d6e60501827cb13c7da3600482d52aab1c0ae55"
   }
  }
 },
 "nbformat": 4,
 "nbformat_minor": 5
}
