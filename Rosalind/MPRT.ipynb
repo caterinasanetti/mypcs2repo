{
 "cells": [
  {
   "cell_type": "code",
   "execution_count": 2,
   "metadata": {},
   "outputs": [
    {
     "name": "stdout",
     "output_type": "stream",
     "text": [
      "A3N0C7\n",
      "59\n",
      "P07306_LECH_HUMAN\n",
      "79 147\n",
      "P02974_FMM1_NEIGO\n",
      "67 68 121\n",
      "P10153_RNKD_HUMAN\n",
      "44 86 92 111 119\n",
      "P40308\n",
      "183 506 522\n",
      "P98119_URT1_DESRO\n",
      "153 398\n",
      "Q32LI2\n",
      "157\n",
      "B4S2L7\n",
      "33\n"
     ]
    }
   ],
   "source": [
    "import requests\n",
    "import os\n",
    "from Bio import SeqIO\n",
    "\n",
    "with open('rosalind_mprt.txt', 'r') as handle:\n",
    "    names = []\n",
    "    ids=[]\n",
    "    for f in handle:\n",
    "        f = f.strip()\n",
    "        ids.append(f)\n",
    "        names.append(f[:6])\n",
    "\n",
    "# download fasta\n",
    "fasta_names = []\n",
    "for name in names:\n",
    "    url = 'http://www.uniprot.org/uniprot/' + name + '.fasta'\n",
    "    response = requests.get(url)\n",
    "    fasta = response.text\n",
    "    fasta_name = name + '.fasta'\n",
    "    fasta_names.append(fasta_name)\n",
    "    with open(fasta_name, 'w') as handle:\n",
    "        handle.write(fasta)\n",
    "seq1=[]\n",
    "for x in fasta_names:\n",
    "    with open(x,\"r\") as x:\n",
    "        for seq_record  in SeqIO.parse(x,'fasta'):\n",
    "            seq1.append(str(seq_record.seq))\n",
    "list = []\n",
    "for seq in seq1:\n",
    "    i_list = []\n",
    "    for i in range(len(seq)-3):\n",
    "        if seq[i] == 'N':\n",
    "            motif_1 = seq[i+1]\n",
    "            if motif_1 != 'P':\n",
    "                motif_2 = seq[i+2]\n",
    "                if motif_2 == 'S' or motif_2 == 'T':\n",
    "                    motif_3 =seq[i+3]\n",
    "                    if motif_3 != 'P':\n",
    "                        i_list.append(i+1)\n",
    "    list.append(i_list)\n",
    "for i in range(len(names)):\n",
    "        if len(list[i])>0:\n",
    "            print(ids[i])\n",
    "            print(*list[i])\n",
    "\n",
    "for x in fasta_names:\n",
    "    os.remove(x)"
   ]
  }
 ],
 "metadata": {
  "kernelspec": {
   "display_name": "base",
   "language": "python",
   "name": "python3"
  },
  "language_info": {
   "codemirror_mode": {
    "name": "ipython",
    "version": 3
   },
   "file_extension": ".py",
   "mimetype": "text/x-python",
   "name": "python",
   "nbconvert_exporter": "python",
   "pygments_lexer": "ipython3",
   "version": "3.8.8"
  },
  "orig_nbformat": 4,
  "vscode": {
   "interpreter": {
    "hash": "5512e18239b1666184ad11820d6e60501827cb13c7da3600482d52aab1c0ae55"
   }
  }
 },
 "nbformat": 4,
 "nbformat_minor": 2
}
