{
 "cells": [
  {
   "cell_type": "code",
   "execution_count": 2,
   "metadata": {},
   "outputs": [
    {
     "name": "stdout",
     "output_type": "stream",
     "text": [
      "MRDMRCIPLTARVRRALKWAQDGYEATNLSSRQQGRVCTDNMLGHGKIRLRCTRAAYMEIRCTVCQRSCCGACFLSDLRITSNSASVNKEGLILRCYVVMFASGRTTEPTFKSIYRKILPRAGACSVGGADRKLCILHRCKSASMSKIGVQRTPKRHGYTLSTPLFTDLLNR\n"
     ]
    }
   ],
   "source": [
    "from Bio import SeqIO\n",
    "from Bio.Seq import Seq\n",
    "seq_name, seq_string = [], []\n",
    "with open ('rosalind_splc.txt','r') as fa:\n",
    "    for seq_record  in SeqIO.parse(fa,'fasta'):\n",
    "        seq_string.append(str(seq_record.seq))\n",
    "for i in range(1,len(seq_string)):\n",
    "    seq_string[0]=seq_string[0].replace(seq_string[i],\"\")\n",
    "p=Seq(seq_string[0])\n",
    "protein=p.translate(to_stop=True)\n",
    "print(protein)"
   ]
  }
 ],
 "metadata": {
  "kernelspec": {
   "display_name": "Python 3.8.8 ('base')",
   "language": "python",
   "name": "python3"
  },
  "language_info": {
   "codemirror_mode": {
    "name": "ipython",
    "version": 3
   },
   "file_extension": ".py",
   "mimetype": "text/x-python",
   "name": "python",
   "nbconvert_exporter": "python",
   "pygments_lexer": "ipython3",
   "version": "3.8.8"
  },
  "orig_nbformat": 4,
  "vscode": {
   "interpreter": {
    "hash": "5512e18239b1666184ad11820d6e60501827cb13c7da3600482d52aab1c0ae55"
   }
  }
 },
 "nbformat": 4,
 "nbformat_minor": 2
}
