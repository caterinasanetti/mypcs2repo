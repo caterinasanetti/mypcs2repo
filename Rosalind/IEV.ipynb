{
 "cells": [
  {
   "cell_type": "code",
   "execution_count": 4,
   "metadata": {},
   "outputs": [
    {
     "name": "stdout",
     "output_type": "stream",
     "text": [
      "159199.5\n"
     ]
    }
   ],
   "source": [
    "import re\n",
    "with open('rosalind_iev.txt', 'r') as f:\n",
    "    s=f.read()\n",
    "x = re.findall('[0-9]+', s)\n",
    "a=[]\n",
    "for i in x:\n",
    "    a.append(int(i))\n",
    "AAAA=a[0]\n",
    "AAAa=a[1]\n",
    "AAaa=a[2]\n",
    "AaAa=a[3]\n",
    "Aaaa=a[4]\n",
    "aaaa=a[5]\n",
    "res=[]\n",
    "tot1=AAAA*2\n",
    "res.append(tot1)\n",
    "tot2=AAAa*2\n",
    "res.append(tot2)\n",
    "tot3=AAaa*2\n",
    "res.append(tot3)\n",
    "tot4=AaAa*1.5\n",
    "res.append(tot4)\n",
    "tot5=Aaaa*1\n",
    "res.append(tot5)\n",
    "print(sum(res))\n"
   ]
  }
 ],
 "metadata": {
  "kernelspec": {
   "display_name": "Python 3.8.8 ('base')",
   "language": "python",
   "name": "python3"
  },
  "language_info": {
   "codemirror_mode": {
    "name": "ipython",
    "version": 3
   },
   "file_extension": ".py",
   "mimetype": "text/x-python",
   "name": "python",
   "nbconvert_exporter": "python",
   "pygments_lexer": "ipython3",
   "version": "3.8.8"
  },
  "orig_nbformat": 4,
  "vscode": {
   "interpreter": {
    "hash": "5512e18239b1666184ad11820d6e60501827cb13c7da3600482d52aab1c0ae55"
   }
  }
 },
 "nbformat": 4,
 "nbformat_minor": 2
}
